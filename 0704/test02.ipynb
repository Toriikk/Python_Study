{
 "cells": [
  {
   "cell_type": "code",
   "execution_count": 2,
   "id": "0a75bc16",
   "metadata": {},
   "outputs": [
    {
     "name": "stdout",
     "output_type": "stream",
     "text": [
      "원하는 단은 : 2\n",
      "2 * 1 = 2\n",
      "2 * 2 = 4\n",
      "2 * 3 = 6\n",
      "2 * 4 = 8\n",
      "2 * 5 = 10\n",
      "2 * 6 = 12\n",
      "2 * 7 = 14\n",
      "2 * 8 = 16\n",
      "2 * 9 = 18\n"
     ]
    }
   ],
   "source": [
    "# while문을 사용한 구구셈\n",
    "dan = int(input('원하는 단은 : '))\n",
    "i = 1\n",
    "\n",
    "while i <= 9 : \n",
    "    print('%d * %d = %d' %(dan, i, dan*i))\n",
    "    i = i + 1"
   ]
  },
  {
   "cell_type": "code",
   "execution_count": null,
   "id": "def57ce6",
   "metadata": {},
   "outputs": [
    {
     "name": "stdout",
     "output_type": "stream",
     "text": [
      "1부터 100 사이의 숫자를 맞추세요.\n",
      "숫자를 입력하세요 : 10\n",
      "너무 낮음!\n"
     ]
    }
   ],
   "source": [
    "# 숫자 맞추기 게임 \n",
    "import random\n",
    "\n",
    "tries = 0\n",
    "guess = 0 \n",
    "answer = random.randint(1, 100)\n",
    "\n",
    "print('1부터 100 사이의 숫자를 맞추세요.')\n",
    "\n",
    "while guess != answer : \n",
    "    guess = int(input('숫자를 입력하세요 : '))\n",
    "    tries = tries + 1\n",
    "    if guess < answer : \n",
    "        print('너무 낮음!')\n",
    "    elif guess > answer : \n",
    "        print('너무 높음!')\n",
    "        \n",
    "if guess == answer : \n",
    "    print('축하합니다. 시도 횟수 = ', tries)\n",
    "else : \n",
    "    print('정답은', answer)"
   ]
  }
 ],
 "metadata": {
  "kernelspec": {
   "display_name": "Python 3 (ipykernel)",
   "language": "python",
   "name": "python3"
  },
  "language_info": {
   "codemirror_mode": {
    "name": "ipython",
    "version": 3
   },
   "file_extension": ".py",
   "mimetype": "text/x-python",
   "name": "python",
   "nbconvert_exporter": "python",
   "pygments_lexer": "ipython3",
   "version": "3.9.12"
  }
 },
 "nbformat": 4,
 "nbformat_minor": 5
}
