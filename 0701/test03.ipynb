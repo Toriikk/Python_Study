{
 "cells": [
  {
   "cell_type": "code",
   "execution_count": 4,
   "id": "0a75bc16",
   "metadata": {},
   "outputs": [
    {
     "name": "stdout",
     "output_type": "stream",
     "text": [
      "물건값을 입력하시오.1000\n",
      "=== 입력 금액 ===\n",
      "1000원 지폐개수 : 1\n",
      "500원 동전개수 : 1\n",
      "100원 동전개수 : 0\n",
      "=== 거스름돈 출력 ===\n",
      "500원 =  1 100원 =  0 10원 =  0 1원 =  0\n"
     ]
    }
   ],
   "source": [
    "# 자판기에서 거스름 돈 계산\n",
    "\n",
    "itemPrice = int(input(\"물건값을 입력하시오.\"))\n",
    "print(\"=== 입력 금액 ===\")\n",
    "note = int(input(\"1000원 지폐개수 : \"))\n",
    "coin500 = int(input(\"500원 동전개수 : \"))\n",
    "coin100 = int(input(\"100원 동전개수 : \"))\n",
    "\n",
    "change = note*1000 + coin500*500 + coin100*100 - itemPrice\n",
    "\n",
    "# 거스름돈(500원 동전 개수)을 계산\n",
    "nCoin500 = change // 500\n",
    "change = change % 500\n",
    "\n",
    "# 거스름돈(100원 동전 개수)을 계산\n",
    "nCoin100 = change // 100\n",
    "change = change % 100\n",
    "\n",
    "# 거스름돈(10원 동전 개수)을 계산\n",
    "nCoin10 = change // 10\n",
    "change = change % 10\n",
    "\n",
    "# 거스름돈(1원 동전 개수)을 계산\n",
    "nCoin1 = change\n",
    "\n",
    "print(\"=== 거스름돈 출력 ===\")\n",
    "print(\"500원 = \", nCoin500, \"100원 = \", nCoin100, \"10원 = \", nCoin10, \"1원 = \", nCoin1,)"
   ]
  },
  {
   "cell_type": "code",
   "execution_count": 5,
   "id": "73e80f41",
   "metadata": {},
   "outputs": [
    {
     "name": "stdout",
     "output_type": "stream",
     "text": [
      "상품의 가격 : 15000\n",
      "배송비 =  3000\n"
     ]
    }
   ],
   "source": [
    "# 배송비 계산 프로그램\n",
    "price = int(input(\"상품의 가격 : \"))\n",
    "\n",
    "#배송비를 결정한다.\n",
    "if price > 20000 : \n",
    "    shopping_cost = 0\n",
    "else : \n",
    "    shopping_cost = 3000\n",
    "    \n",
    "# 배송비를 출력\n",
    "print(\"배송비 = \", shopping_cost)"
   ]
  },
  {
   "cell_type": "code",
   "execution_count": 6,
   "id": "fbf33f73",
   "metadata": {},
   "outputs": [
    {
     "name": "stdout",
     "output_type": "stream",
     "text": [
      "False\n"
     ]
    }
   ],
   "source": [
    "# 관계 연산자\n",
    "s1 = \"안녕하세요\"\n",
    "s2 = \"Hello\"\n",
    "print(s1 < s2)"
   ]
  },
  {
   "cell_type": "code",
   "execution_count": 10,
   "id": "a4c98e8c",
   "metadata": {},
   "outputs": [
    {
     "name": "stdout",
     "output_type": "stream",
     "text": [
      "sqrt(3.0) * sqrt(3.0)은 3.0과 같다\n"
     ]
    }
   ],
   "source": [
    "# 실수와 실수 비교\n",
    "from math import sqrt\n",
    "\n",
    "n = sqrt(3.0)\n",
    "if abs(n*n == 3.0) < 0.0001 :\n",
    "    print('sqrt(3.0) * sqrt(3.0)은 3.0과 같다')\n",
    "else : \n",
    "    print(\"sqrt(3.0) * sqrt(3.0)은 3.0과 같지 않다\")"
   ]
  },
  {
   "cell_type": "code",
   "execution_count": 12,
   "id": "c7c8e0f9",
   "metadata": {},
   "outputs": [
    {
     "name": "stdout",
     "output_type": "stream",
     "text": [
      "74+54=128\n",
      "True\n"
     ]
    }
   ],
   "source": [
    "# 산술 문제 출제 프로그램\n",
    "# f 문자열은 { }로 감싸서 문자열 안에 넣을 수 있음.\n",
    "import random\n",
    "\n",
    "x = random.randint(1, 100)\n",
    "y = random.randint(1, 100)\n",
    "\n",
    "answer = int(input(f\"{x}+{y}=\"))\n",
    "\n",
    "#boolaen 변수에 결과를 저장하고 출력\n",
    "flag = (answer == (x+y))\n",
    "print(flag)"
   ]
  },
  {
   "cell_type": "code",
   "execution_count": 15,
   "id": "b0d2b317",
   "metadata": {},
   "outputs": [
    {
     "name": "stdout",
     "output_type": "stream",
     "text": [
      "첫 번째 값 : 15\n",
      "두 번째 값 : 20\n",
      "절대값 = 15\n",
      "최대값 = 20\n",
      "최소값 = 15\n"
     ]
    }
   ],
   "source": [
    "# 조건 연산자 - 삼항 연산자\n",
    "x = int(input(\"첫 번째 값 : \"))\n",
    "y = int(input(\"두 번째 값 : \"))\n",
    "absolute_value = (x if x>0 else - x) # 절대값\n",
    "max_value = (x if x > y else y)  # 최대값\n",
    "min_value = (x if x < y else y)  # 최소값\n",
    "\n",
    "\n",
    "print(\"절대값 =\", absolute_value )\n",
    "print(\"최대값 =\", max_value )\n",
    "print(\"최소값 =\", min_value )"
   ]
  },
  {
   "cell_type": "code",
   "execution_count": null,
   "id": "30b4a8d5",
   "metadata": {},
   "outputs": [],
   "source": [
    "# 온도에 따른 물의 상태 \n",
    "temp = float(input(\"온도를 입력하세요\"))\n",
    "\n",
    "if temp <= 0 :\n",
    "    print(\"물의 상태는 얼음입니다.\")\n",
    "elif temp > 0 :\n",
    "    print(\"물의 상태는 액체입니다.\")\n",
    "else : \n",
    "    print(\"물의 상태는 기체입니다.\")"
   ]
  }
 ],
 "metadata": {
  "kernelspec": {
   "display_name": "Python 3 (ipykernel)",
   "language": "python",
   "name": "python3"
  },
  "language_info": {
   "codemirror_mode": {
    "name": "ipython",
    "version": 3
   },
   "file_extension": ".py",
   "mimetype": "text/x-python",
   "name": "python",
   "nbconvert_exporter": "python",
   "pygments_lexer": "ipython3",
   "version": "3.9.12"
  }
 },
 "nbformat": 4,
 "nbformat_minor": 5
}
