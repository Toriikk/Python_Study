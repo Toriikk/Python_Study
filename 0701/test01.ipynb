{
 "cells": [
  {
   "cell_type": "code",
   "execution_count": 1,
   "id": "0a75bc16",
   "metadata": {},
   "outputs": [
    {
     "name": "stdout",
     "output_type": "stream",
     "text": [
      "원리금 합계 =  1628.894626777442\n"
     ]
    }
   ],
   "source": [
    "#원리금 합계 구하기 \n",
    "a = 1000     # 원금\n",
    "r = 0.05     # 이자율\n",
    "n = 10       # 기간 \n",
    "result = a * (1+r) **n  # 원리금 합계\n",
    "\n",
    "print(\"원리금 합계 = \", result)"
   ]
  },
  {
   "cell_type": "code",
   "execution_count": 5,
   "id": "fcae5ba4",
   "metadata": {},
   "outputs": [
    {
     "name": "stdout",
     "output_type": "stream",
     "text": [
      "925.88\n"
     ]
    }
   ],
   "source": [
    "# 소수점 자리 \n",
    "price = 12345\n",
    "tax = price * 0.075\n",
    "tax = round(tax,2)\n",
    "print(tax)"
   ]
  },
  {
   "cell_type": "code",
   "execution_count": 7,
   "id": "214468b8",
   "metadata": {},
   "outputs": [
    {
     "name": "stdout",
     "output_type": "stream",
     "text": [
      "hello\n",
      "Hi\n"
     ]
    }
   ],
   "source": [
    "# 문자열 \n",
    "msg = \"hello\"\n",
    "print(msg)\n",
    "msg = 'Hi'\n",
    "print(msg)"
   ]
  },
  {
   "cell_type": "code",
   "execution_count": 8,
   "id": "666fa5ad",
   "metadata": {},
   "outputs": [
    {
     "name": "stdout",
     "output_type": "stream",
     "text": [
      "\n",
      "안녕하세요 \n",
      "지금 \n",
      "파이썬을 \n",
      "배우고 있습니다.\n",
      "\n"
     ]
    }
   ],
   "source": [
    "# 세 따옴표 문자열 = 여러줄 표시 가능 \n",
    "a = \"\"\"\n",
    "안녕하세요 \n",
    "지금 \n",
    "파이썬을 \n",
    "배우고 있습니다.\n",
    "\"\"\"\n",
    "print(a)"
   ]
  },
  {
   "cell_type": "code",
   "execution_count": 10,
   "id": "05b67e4c",
   "metadata": {},
   "outputs": [
    {
     "name": "stdout",
     "output_type": "stream",
     "text": [
      "\n",
      "1. 시작\n",
      "2. 수정\n",
      "3. 삭제\n",
      "4. 종료 \n",
      "==> 번호를 선택하세요 : \n",
      "\n",
      "\n"
     ]
    }
   ],
   "source": [
    "menu = \"\"\"\n",
    "1. 시작\n",
    "2. 수정\n",
    "3. 삭제\n",
    "4. 종료 \n",
    "==> 번호를 선택하세요 : \n",
    "\n",
    "\"\"\"\n",
    "print(menu)"
   ]
  },
  {
   "cell_type": "code",
   "execution_count": 11,
   "id": "9894f9ad",
   "metadata": {},
   "outputs": [
    {
     "data": {
      "text/plain": [
       "'Hello World!'"
      ]
     },
     "execution_count": 11,
     "metadata": {},
     "output_type": "execute_result"
    }
   ],
   "source": [
    "'Hello World!'"
   ]
  },
  {
   "cell_type": "code",
   "execution_count": 13,
   "id": "e051c769",
   "metadata": {
    "scrolled": true
   },
   "outputs": [
    {
     "name": "stdout",
     "output_type": "stream",
     "text": [
      "------------------------------\n"
     ]
    }
   ],
   "source": [
    "Lines = \"-\" * 30\n",
    "print(Lines)"
   ]
  },
  {
   "cell_type": "code",
   "execution_count": 14,
   "id": "7c51ef8a",
   "metadata": {},
   "outputs": [
    {
     "name": "stdout",
     "output_type": "stream",
     "text": [
      "Terminator3\n"
     ]
    }
   ],
   "source": [
    "movie = \"Terminator\" + str(3) \n",
    "print(movie)"
   ]
  },
  {
   "cell_type": "code",
   "execution_count": 15,
   "id": "31d7d859",
   "metadata": {},
   "outputs": [
    {
     "name": "stdout",
     "output_type": "stream",
     "text": [
      "말 한마디로\n",
      " 천냥빛을\n",
      "갚는다.\n"
     ]
    }
   ],
   "source": [
    "print(\"말 한마디로\\n 천냥빛을\\n갚는다.\")"
   ]
  },
  {
   "cell_type": "code",
   "execution_count": 21,
   "id": "eb7cb47a",
   "metadata": {},
   "outputs": [
    {
     "name": "stdout",
     "output_type": "stream",
     "text": [
      "K과P과L\n"
     ]
    }
   ],
   "source": [
    "# 문자열은 배열로 처리 - 한 칸이라도 들여쓰기하면 오류 발생\n",
    "a = \"Kim\"\n",
    "b = \"Park\"\n",
    "c = \"Lee\"\n",
    "First = a[0] + \"과\" + b[0] + \"과\" + c[0]\n",
    "print(First)"
   ]
  },
  {
   "cell_type": "code",
   "execution_count": 23,
   "id": "551973eb",
   "metadata": {},
   "outputs": [
    {
     "name": "stdout",
     "output_type": "stream",
     "text": [
      "harry potter\n",
      "HARRY POTTER\n"
     ]
    }
   ],
   "source": [
    "# 파이썬은 모든 변수를 오브젝트로 선언한다\n",
    "\n",
    "name = \"Harry Potter\"\n",
    "lower_name = name.lower()\n",
    "print(lower_name)\n",
    "upper_name = name.upper()\n",
    "print(upper_name)"
   ]
  },
  {
   "cell_type": "code",
   "execution_count": null,
   "id": "04844da2",
   "metadata": {},
   "outputs": [],
   "source": []
  }
 ],
 "metadata": {
  "kernelspec": {
   "display_name": "Python 3 (ipykernel)",
   "language": "python",
   "name": "python3"
  },
  "language_info": {
   "codemirror_mode": {
    "name": "ipython",
    "version": 3
   },
   "file_extension": ".py",
   "mimetype": "text/x-python",
   "name": "python",
   "nbconvert_exporter": "python",
   "pygments_lexer": "ipython3",
   "version": "3.9.12"
  }
 },
 "nbformat": 4,
 "nbformat_minor": 5
}
