{
 "cells": [
  {
   "cell_type": "code",
   "execution_count": 1,
   "id": "0a75bc16",
   "metadata": {},
   "outputs": [
    {
     "name": "stdout",
     "output_type": "stream",
     "text": [
      "반지름이 3만 원의 면적 =  28.26\n"
     ]
    }
   ],
   "source": [
    "# 함수 정의 - 사용자 정의 함수 \n",
    "\n",
    "def get_area(radius) :\n",
    "    area = 3.14 * radius**2\n",
    "    return area\n",
    "\n",
    "result = get_area(3)\n",
    "print('반지름이 3만 원의 면적 = ', result)\n"
   ]
  },
  {
   "cell_type": "code",
   "execution_count": 3,
   "id": "9f3a407b",
   "metadata": {},
   "outputs": [
    {
     "name": "stdout",
     "output_type": "stream",
     "text": [
      "x =  2\n",
      "y =  3\n"
     ]
    }
   ],
   "source": [
    "# 리턴값이 두 개인 사용자 정의 함수 \n",
    "\n",
    "def get_input() :\n",
    "    return 2, 3\n",
    "x, y = get_input()\n",
    "print(\"x = \", x)\n",
    "print(\"y = \", y)"
   ]
  },
  {
   "cell_type": "code",
   "execution_count": 4,
   "id": "11ebae61",
   "metadata": {},
   "outputs": [
    {
     "name": "stdout",
     "output_type": "stream",
     "text": [
      "안녕 정수, 좋은 아침! \n"
     ]
    }
   ],
   "source": [
    "# 디폴트인 수 \n",
    "\n",
    "def greet(name, msg) :\n",
    "    print(\"안녕\", name + ', ' + msg)\n",
    "\n",
    "greet(\"정수\", \"좋은 아침! \")\n"
   ]
  },
  {
   "cell_type": "code",
   "execution_count": 5,
   "id": "9c710577",
   "metadata": {},
   "outputs": [
    {
     "name": "stdout",
     "output_type": "stream",
     "text": [
      "안녕 영희, 별일없죠?\n",
      "안녕 정수, 잘 지내?\n"
     ]
    }
   ],
   "source": [
    "# 디폴트인 수 2\n",
    "\n",
    "def greet(name, msg=\"별일없죠?\") :\n",
    "    print(\"안녕\", name + ', ' + msg)\n",
    "\n",
    "    \n",
    "greet(\"영희\")\n",
    "greet(\"정수\", \"잘 지내?\")\n"
   ]
  }
 ],
 "metadata": {
  "kernelspec": {
   "display_name": "Python 3 (ipykernel)",
   "language": "python",
   "name": "python3"
  },
  "language_info": {
   "codemirror_mode": {
    "name": "ipython",
    "version": 3
   },
   "file_extension": ".py",
   "mimetype": "text/x-python",
   "name": "python",
   "nbconvert_exporter": "python",
   "pygments_lexer": "ipython3",
   "version": "3.9.12"
  }
 },
 "nbformat": 4,
 "nbformat_minor": 5
}
