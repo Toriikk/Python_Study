{
 "cells": [
  {
   "cell_type": "code",
   "execution_count": 1,
   "id": "0a75bc16",
   "metadata": {},
   "outputs": [
    {
     "name": "stdout",
     "output_type": "stream",
     "text": [
      "합은 300\n"
     ]
    }
   ],
   "source": [
    "x = 100\n",
    "y = 200 \n",
    "sum = x + y \n",
    "print(\"합은\", sum)"
   ]
  },
  {
   "cell_type": "code",
   "execution_count": 2,
   "id": "71ca4519",
   "metadata": {},
   "outputs": [
    {
     "name": "stdout",
     "output_type": "stream",
     "text": [
      "반지름 10 인 원의 면적 =  314.0\n"
     ]
    }
   ],
   "source": [
    "# 원의 면적 계산 프로그램 \n",
    "radius = 10  # radius(반지름)는 10\n",
    "\n",
    "# 면적을 계산 \n",
    "area = 3.14 * radius * radius\n",
    "\n",
    "# 결과를 출력함\n",
    "print(\"반지름\", radius, \"인 원의 면적 = \", area)"
   ]
  },
  {
   "cell_type": "code",
   "execution_count": 3,
   "id": "56a5670d",
   "metadata": {},
   "outputs": [
    {
     "data": {
      "text/plain": [
       "['False',\n",
       " 'None',\n",
       " 'True',\n",
       " '__peg_parser__',\n",
       " 'and',\n",
       " 'as',\n",
       " 'assert',\n",
       " 'async',\n",
       " 'await',\n",
       " 'break',\n",
       " 'class',\n",
       " 'continue',\n",
       " 'def',\n",
       " 'del',\n",
       " 'elif',\n",
       " 'else',\n",
       " 'except',\n",
       " 'finally',\n",
       " 'for',\n",
       " 'from',\n",
       " 'global',\n",
       " 'if',\n",
       " 'import',\n",
       " 'in',\n",
       " 'is',\n",
       " 'lambda',\n",
       " 'nonlocal',\n",
       " 'not',\n",
       " 'or',\n",
       " 'pass',\n",
       " 'raise',\n",
       " 'return',\n",
       " 'try',\n",
       " 'while',\n",
       " 'with',\n",
       " 'yield']"
      ]
     },
     "execution_count": 3,
     "metadata": {},
     "output_type": "execute_result"
    }
   ],
   "source": [
    "# 예약어 확인\n",
    "import keyword\n",
    "keyword.kwlist"
   ]
  },
  {
   "cell_type": "code",
   "execution_count": 4,
   "id": "ffb49b95",
   "metadata": {},
   "outputs": [
    {
     "data": {
      "text/plain": [
       "int"
      ]
     },
     "execution_count": 4,
     "metadata": {},
     "output_type": "execute_result"
    }
   ],
   "source": [
    "# 데이터 타입 확인\n",
    "type(1234)"
   ]
  },
  {
   "cell_type": "code",
   "execution_count": 6,
   "id": "b26adb99",
   "metadata": {},
   "outputs": [
    {
     "name": "stdout",
     "output_type": "stream",
     "text": [
      "<class 'float'>\n",
      "<class 'str'>\n"
     ]
    }
   ],
   "source": [
    "# 데이터 타입 확인\n",
    "print(type(12.30))\n",
    "print(type(\"Hello\"))"
   ]
  },
  {
   "cell_type": "code",
   "execution_count": 7,
   "id": "fb1e37c9",
   "metadata": {},
   "outputs": [
    {
     "data": {
      "text/plain": [
       "int"
      ]
     },
     "execution_count": 7,
     "metadata": {},
     "output_type": "execute_result"
    }
   ],
   "source": [
    "a = 5\n",
    "type(a)"
   ]
  },
  {
   "cell_type": "code",
   "execution_count": 8,
   "id": "a0c642f3",
   "metadata": {},
   "outputs": [
    {
     "data": {
      "text/plain": [
       "float"
      ]
     },
     "execution_count": 8,
     "metadata": {},
     "output_type": "execute_result"
    }
   ],
   "source": [
    "a = 5.8\n",
    "type(a)"
   ]
  },
  {
   "cell_type": "code",
   "execution_count": 9,
   "id": "47d896bd",
   "metadata": {},
   "outputs": [
    {
     "data": {
      "text/plain": [
       "str"
      ]
     },
     "execution_count": 9,
     "metadata": {},
     "output_type": "execute_result"
    }
   ],
   "source": [
    "a = \"5.8\"\n",
    "type(a)"
   ]
  },
  {
   "cell_type": "code",
   "execution_count": 10,
   "id": "5c30a7b5",
   "metadata": {},
   "outputs": [
    {
     "name": "stdout",
     "output_type": "stream",
     "text": [
      "섭씨온도 :  37.77777777777778\n"
     ]
    }
   ],
   "source": [
    "# 화씨 온도를 받아서 섭씨 온도로 변환\n",
    "\n",
    "ftemp = 100 #화씨 온도  100\n",
    "\n",
    "ctemp = (ftemp - 32.0) * 5.0/9.0\n",
    "print(\"섭씨온도 : \", ctemp)"
   ]
  },
  {
   "cell_type": "code",
   "execution_count": 14,
   "id": "7de48e36",
   "metadata": {},
   "outputs": [
    {
     "name": "stdout",
     "output_type": "stream",
     "text": [
      "반지름 =  5 높이 =  10 원의 면적  =  785.0\n"
     ]
    }
   ],
   "source": [
    "# 원기둥의 부피 계산 \n",
    "# 원주율을 나타내는 상수를 정의 \n",
    "\n",
    "PI = 3.14\n",
    "\n",
    "# 변수를 정의 \n",
    "radius = 5\n",
    "height = 10 \n",
    "\n",
    "# 부피를 계산 \n",
    "volume = PI * radius * radius * height\n",
    "\n",
    "# 결과를 출력\n",
    "print(\"반지름 = \", radius, \"높이 = \", height, \"원의 면적  = \", volume)"
   ]
  },
  {
   "cell_type": "code",
   "execution_count": 15,
   "id": "2a04448d",
   "metadata": {},
   "outputs": [
    {
     "name": "stdout",
     "output_type": "stream",
     "text": [
      "나눗셈의 몫 =  1\n",
      "나눗셈 몫의 나머지 =  3\n"
     ]
    }
   ],
   "source": [
    "# 나눗셈의 몫과 나머지 \n",
    " \n",
    "p = 7\n",
    "q = 4\n",
    "print(\"나눗셈의 몫 = \", p//q)  # 정수의 나눗셈 //, 실수의 나눗셈 /\n",
    "print(\"나눗셈 몫의 나머지 = \", p%q)\n"
   ]
  }
 ],
 "metadata": {
  "kernelspec": {
   "display_name": "Python 3 (ipykernel)",
   "language": "python",
   "name": "python3"
  },
  "language_info": {
   "codemirror_mode": {
    "name": "ipython",
    "version": 3
   },
   "file_extension": ".py",
   "mimetype": "text/x-python",
   "name": "python",
   "nbconvert_exporter": "python",
   "pygments_lexer": "ipython3",
   "version": "3.9.12"
  }
 },
 "nbformat": 4,
 "nbformat_minor": 5
}
